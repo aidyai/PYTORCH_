{
 "cells": [
  {
   "cell_type": "markdown",
   "metadata": {},
   "source": [
    "# TENSOR WITH PYTORCH"
   ]
  },
  {
   "cell_type": "code",
   "execution_count": 1,
   "metadata": {},
   "outputs": [],
   "source": [
    "import torch\n",
    "import numpy as np\n",
    "import pandas as pd"
   ]
  },
  {
   "cell_type": "code",
   "execution_count": 2,
   "metadata": {},
   "outputs": [
    {
     "name": "stdout",
     "output_type": "stream",
     "text": [
      "tensor([[0., 0., 0.],\n",
      "        [0., 0., 0.],\n",
      "        [0., 0., 0.],\n",
      "        [0., 0., 0.],\n",
      "        [0., 0., 0.]])\n",
      "torch.float32\n"
     ]
    }
   ],
   "source": [
    "z = torch.zeros(5,3)\n",
    "print(z)\n",
    "print(z.dtype)   "
   ]
  },
  {
   "cell_type": "markdown",
   "metadata": {},
   "source": [
    "## Above, we created a 5x3 Matrix filled with zeros, and query its datatypes to fidout that that the zeros are 32-bit floating point numbers, which is the default in Pytorch\n"
   ]
  },
  {
   "cell_type": "markdown",
   "metadata": {},
   "source": [
    "## If we wanted integers instead, then we can override the dafault. Like so Below.."
   ]
  },
  {
   "cell_type": "code",
   "execution_count": 4,
   "metadata": {},
   "outputs": [
    {
     "name": "stdout",
     "output_type": "stream",
     "text": [
      "tensor([[1, 1, 1],\n",
      "        [1, 1, 1],\n",
      "        [1, 1, 1],\n",
      "        [1, 1, 1],\n",
      "        [1, 1, 1]], dtype=torch.int16)\n"
     ]
    }
   ],
   "source": [
    "i = torch.ones((5, 3), dtype=torch.int16)\n",
    "print(i)"
   ]
  },
  {
   "cell_type": "markdown",
   "metadata": {},
   "source": [
    "## Initializing Learning rates randomly with a specific seed"
   ]
  },
  {
   "cell_type": "code",
   "execution_count": 7,
   "metadata": {},
   "outputs": [
    {
     "name": "stdout",
     "output_type": "stream",
     "text": [
      "tensor([[0.4077, 0.1676],\n",
      "        [0.3299, 0.2215]])\n",
      "This will be a Different Tensor\n",
      "tensor([[0.9937, 0.7382],\n",
      "        [0.3273, 0.5193]])\n",
      "\n",
      "Should match r\n",
      "tensor([[0.4077, 0.1676],\n",
      "        [0.3299, 0.2215]])\n"
     ]
    }
   ],
   "source": [
    "torch.manual_seed(1728)\n",
    "r = torch.rand(2,2)\n",
    "print(r)\n",
    "\n",
    "r1 = torch.rand(2,2)\n",
    "print('This will be a Different Tensor')\n",
    "print(r1)\n",
    "\n",
    "torch.manual_seed(1728)\n",
    "r2=torch.rand(2,2)\n",
    "print('\\nShould match r')\n",
    "print(r2)\n",
    "\n",
    "\n"
   ]
  },
  {
   "cell_type": "markdown",
   "metadata": {},
   "source": [
    "### Aritmethic with Pytorch tensors ai Intuitive. Tensors of similar shape may be added or multiplied. Operations btw a scalar and a tensor will distribute over the cells of a tensor.\n",
    "## EXAMPLES BELOW:"
   ]
  },
  {
   "cell_type": "code",
   "execution_count": 16,
   "metadata": {},
   "outputs": [
    {
     "name": "stdout",
     "output_type": "stream",
     "text": [
      "tensor([[1., 1., 1.],\n",
      "        [1., 1., 1.]])\n",
      "tensor([[2., 2., 2.],\n",
      "        [2., 2., 2.]])\n",
      "tensor([[3., 3., 3.],\n",
      "        [3., 3., 3.]])\n",
      "torch.Size([2, 3])\n"
     ]
    }
   ],
   "source": [
    "one1s = torch.ones(2, 3)\n",
    "print(one1s)\n",
    "tw2s = torch.ones(2,3)*2  #-- Multiply every element in tw3s by 2\n",
    "print(tw2s)\n",
    "thr33s = one1s + tw2s  ## Performing Addition Operations'''\n",
    "print(thr33s)          ## Tensors are added element-wise\n",
    "print(thr33s.shape)    ## This has the same dimensions as input tensors"
   ]
  },
  {
   "cell_type": "code",
   "execution_count": null,
   "metadata": {},
   "outputs": [],
   "source": [
    "r1 = torch.rand(2,3)\n",
    "r2 = torch.rand(3,2)\n",
    "r3 = r1+r2 "
   ]
  },
  {
   "cell_type": "markdown",
   "metadata": {},
   "source": [
    "### ABOVE: Attempting to add two random tensors of different shapes and there is a runtime error because there ios no way to dovelement-wise arithmetic operations with tensors of different shapes "
   ]
  },
  {
   "cell_type": "markdown",
   "metadata": {},
   "source": [
    "# TENSORS 1: CREATION AND CONVERSION OF TENSORS"
   ]
  },
  {
   "cell_type": "markdown",
   "metadata": {},
   "source": [
    "### CREATING A 1-D TENSOR"
   ]
  },
  {
   "cell_type": "code",
   "execution_count": 350,
   "metadata": {},
   "outputs": [
    {
     "name": "stdout",
     "output_type": "stream",
     "text": [
      "1\n",
      "<class 'torch.Tensor'>\n",
      "torch.FloatTensor\n",
      "torch.float32\n"
     ]
    },
    {
     "data": {
      "text/plain": [
       "tensor([-7., -6., -5., -4., -3., -2., -1.,  0.,  1.,  2.,  3.,  4.,  5.,  6.,\n",
       "         7.,  8.])"
      ]
     },
     "execution_count": 350,
     "metadata": {},
     "output_type": "execute_result"
    }
   ],
   "source": [
    "a = [i+(-7) for i in range(16)]\n",
    "A = torch.Tensor(a)\n",
    "print(A.ndimension())\n",
    "print(type(A))\n",
    "print(A.type())\n",
    "print(A.dtype)\n",
    "A"
   ]
  },
  {
   "cell_type": "markdown",
   "metadata": {},
   "source": [
    "### INDEXING A TENSOR"
   ]
  },
  {
   "cell_type": "code",
   "execution_count": 353,
   "metadata": {},
   "outputs": [
    {
     "name": "stdout",
     "output_type": "stream",
     "text": [
      "tensor(3.)\n",
      "tensor(-3.) \n",
      " tensor(4.)\n"
     ]
    }
   ],
   "source": [
    "print(A[10])\n",
    "print(A[4],'\\n', A[11])\n"
   ]
  },
  {
   "cell_type": "markdown",
   "metadata": {},
   "source": [
    "### ACESSING THE ACTUAL NUMBER USING `item()` METHOD"
   ]
  },
  {
   "cell_type": "code",
   "execution_count": 359,
   "metadata": {},
   "outputs": [
    {
     "name": "stdout",
     "output_type": "stream",
     "text": [
      "4.0\n",
      "<class 'float'>\n",
      "torch.FloatTensor\n"
     ]
    }
   ],
   "source": [
    "print(A[11].item())\n",
    "print(type(A[9].item()))\n",
    "print(A.type())"
   ]
  },
  {
   "cell_type": "markdown",
   "metadata": {},
   "source": [
    "### CONVERTING FROM FLOAT TENSOR TO LONG TENSOR USING TYPE()"
   ]
  },
  {
   "cell_type": "code",
   "execution_count": 362,
   "metadata": {},
   "outputs": [
    {
     "data": {
      "text/plain": [
       "'torch.FloatTensor'"
      ]
     },
     "execution_count": 362,
     "metadata": {},
     "output_type": "execute_result"
    }
   ],
   "source": [
    "A.type()"
   ]
  },
  {
   "cell_type": "code",
   "execution_count": 389,
   "metadata": {},
   "outputs": [
    {
     "name": "stdout",
     "output_type": "stream",
     "text": [
      "torch.IntTensor torch.int32 tensor([-7, -6, -5, -4, -3, -2, -1,  0,  1,  2,  3,  4,  5,  6,  7,  8],\n",
      "       dtype=torch.int32)\n"
     ]
    }
   ],
   "source": [
    "vx = A.type(torch.LongTensor)\n",
    "vx = vx.type(dtype=torch.int32)\n",
    "\n",
    "print(vx.type(), vx.dtype, vx)"
   ]
  },
  {
   "cell_type": "markdown",
   "metadata": {},
   "source": [
    "### SIZE AND DIMENSION"
   ]
  },
  {
   "cell_type": "code",
   "execution_count": 391,
   "metadata": {},
   "outputs": [
    {
     "name": "stdout",
     "output_type": "stream",
     "text": [
      "tensor([-7, -6, -5, -4, -3, -2, -1,  0,  1,  2,  3,  4,  5,  6,  7,  8],\n",
      "       dtype=torch.int32)\n",
      "1\n",
      "torch.Size([16])\n"
     ]
    }
   ],
   "source": [
    "print(vx)\n",
    "print(vx.ndimension())\n",
    "print(vx.size())\n"
   ]
  },
  {
   "cell_type": "code",
   "execution_count": 392,
   "metadata": {},
   "outputs": [
    {
     "data": {
      "text/plain": [
       "tensor([-7., -6., -5., -4., -3., -2., -1.,  0.,  1.,  2.,  3.,  4.,  5.,  6.,\n",
       "         7.,  8.])"
      ]
     },
     "execution_count": 392,
     "metadata": {},
     "output_type": "execute_result"
    }
   ],
   "source": [
    "A"
   ]
  },
  {
   "cell_type": "markdown",
   "metadata": {},
   "source": [
    "### CHANGING THE VIEW OF A TENSOR"
   ]
  },
  {
   "cell_type": "code",
   "execution_count": 399,
   "metadata": {},
   "outputs": [
    {
     "name": "stdout",
     "output_type": "stream",
     "text": [
      "tensor([[-7., -6., -5., -4.],\n",
      "        [-3., -2., -1.,  0.],\n",
      "        [ 1.,  2.,  3.,  4.],\n",
      "        [ 5.,  6.,  7.,  8.]]) torch.FloatTensor\n",
      "tensor([[-7., -6., -5., -4., -3., -2., -1.,  0.],\n",
      "        [ 1.,  2.,  3.,  4.,  5.,  6.,  7.,  8.]]) torch.FloatTensor\n",
      "tensor([[-7., -6.],\n",
      "        [-5., -4.],\n",
      "        [-3., -2.],\n",
      "        [-1.,  0.],\n",
      "        [ 1.,  2.],\n",
      "        [ 3.,  4.],\n",
      "        [ 5.,  6.],\n",
      "        [ 7.,  8.]]) torch.FloatTensor\n"
     ]
    }
   ],
   "source": [
    "K = A.view(4,4)\n",
    "Kx = A.view(2,8)\n",
    "xm = A.view(8,2)\n",
    "print(K,K.type())\n",
    "print(Kx, Kx.type())\n",
    "print(xm, xm.type())"
   ]
  },
  {
   "cell_type": "code",
   "execution_count": 20,
   "metadata": {},
   "outputs": [
    {
     "name": "stdout",
     "output_type": "stream",
     "text": [
      "Original tensor: tensor([0, 1, 2, 3, 4, 5])\n",
      "Reshaped view of tensor with 3cols:\n",
      " tensor([[0, 1, 2],\n",
      "        [3, 4, 5]])\n",
      "=======================================================\n",
      "Original tensor: tensor([0, 1, 2, 3, 4, 5, 6, 7, 8])\n",
      "Reshaped view of tensor with 3cols:\n",
      " tensor([[0, 1, 2],\n",
      "        [3, 4, 5],\n",
      "        [6, 7, 8]])\n",
      "=======================================================\n",
      "Original tensor: tensor([ 0,  1,  2,  3,  4,  5,  6,  7,  8,  9, 10, 11])\n",
      "Reshaped view of tensor with 3cols:\n",
      " tensor([[ 0,  1,  2],\n",
      "        [ 3,  4,  5],\n",
      "        [ 6,  7,  8],\n",
      "        [ 9, 10, 11]])\n",
      "=======================================================\n"
     ]
    }
   ],
   "source": [
    "n = [6,9,12]\n",
    "#[2,1,5]\n",
    "\n",
    "for k in n:\n",
    "    #print(k)\n",
    "    a = torch.tensor([i for i in range(k)])\n",
    "    a_col = a.view(-1,3)\n",
    "    print('Original tensor:', a)\n",
    "    print('Reshaped view of tensor with 3cols:\\n',a_col)\n",
    "    print('='*55)"
   ]
  },
  {
   "cell_type": "markdown",
   "metadata": {},
   "source": [
    "### SWITHCHING BETWEEN TENSOR AND NUMPY "
   ]
  },
  {
   "cell_type": "code",
   "execution_count": 41,
   "metadata": {},
   "outputs": [
    {
     "data": {
      "text/plain": [
       "array([[12.4, 15. ],\n",
       "       [12. , 45. ],\n",
       "       [ 9. ,  7. ]])"
      ]
     },
     "execution_count": 41,
     "metadata": {},
     "output_type": "execute_result"
    }
   ],
   "source": [
    "yx = [[12.4,15],[12,45],[9,7]]\n",
    "nPy = np.arange(1.0,3.5,0.5)\n",
    "\n",
    "dx = np.array(yx)\n",
    "dx"
   ]
  },
  {
   "cell_type": "code",
   "execution_count": 44,
   "metadata": {},
   "outputs": [
    {
     "data": {
      "text/plain": [
       "tensor([[12.4000, 15.0000],\n",
       "        [12.0000, 45.0000],\n",
       "        [ 9.0000,  7.0000]], dtype=torch.float64)"
      ]
     },
     "execution_count": 44,
     "metadata": {},
     "output_type": "execute_result"
    }
   ],
   "source": [
    "np_2_tensor = torch.from_numpy(dx)\n",
    "np_2_tensor"
   ]
  },
  {
   "cell_type": "code",
   "execution_count": 45,
   "metadata": {},
   "outputs": [
    {
     "data": {
      "text/plain": [
       "array([[12.4, 15. ],\n",
       "       [12. , 45. ],\n",
       "       [ 9. ,  7. ]])"
      ]
     },
     "execution_count": 45,
     "metadata": {},
     "output_type": "execute_result"
    }
   ],
   "source": [
    "tensor_2_np = np_2_tensor.numpy()\n",
    "tensor_2_np "
   ]
  },
  {
   "cell_type": "markdown",
   "metadata": {},
   "source": [
    "# SIMPLE AMTHEMATICAL OPERATIONS WITH TENSORS"
   ]
  },
  {
   "cell_type": "code",
   "execution_count": 46,
   "metadata": {},
   "outputs": [
    {
     "name": "stdout",
     "output_type": "stream",
     "text": [
      "A Random Matrix:\n",
      " tensor([[-0.5143, -0.2787],\n",
      "        [-0.6243, -0.3068]])\n",
      "Absolute Value of rx: \n",
      " tensor([[0.5143, 0.2787],\n",
      "        [0.6243, 0.3068]])\n",
      "Absolute Value of rx: \n",
      " tensor([[0.5143, 0.2787],\n",
      "        [0.6243, 0.3068]])\n",
      "LINEAR ALGEBRAIC OPR like DETERMINANTS AND SINGULAR VALUE DECOMPOSITION:\n",
      " Detrminants Of rx: tensor(-0.0162) \n",
      " Singular Value Decomposition of rx: torch.return_types.svd(\n",
      "U=tensor([[-0.6435, -0.7654],\n",
      "        [-0.7654,  0.6435]]),\n",
      "S=tensor([0.9087, 0.0179]),\n",
      "V=tensor([[ 0.8901, -0.4558],\n",
      "        [ 0.4558,  0.8901]])) \n",
      "\n",
      "STATISTICAL AND AGGREGATE OPERATIONS:\n",
      " STANDARD DEVIATION OF rx: tensor(0.1662) \n",
      " AVERAGE OR MEAN OF rx: tensor(-0.4310) \n",
      " MAXIMUM VALUE OF rx: tensor(-0.2787) \n",
      "\n"
     ]
    }
   ],
   "source": [
    "rx = torch.rand(2,2) - 0.5*2\n",
    "print('A Random Matrix:\\n',rx)\n",
    "\n",
    "print('Absolute Value of rx: \\n', torch.abs(rx))\n",
    "print('Absolute Value of rx: \\n', torch.abs(rx))\n",
    "print('LINEAR ALGEBRAIC OPR like DETERMINANTS AND SINGULAR VALUE DECOMPOSITION:\\n',\n",
    "'Detrminants Of rx:',torch.det(rx), '\\n',\n",
    "'Singular Value Decomposition of rx:', torch.svd(rx), '\\n')\n",
    "\n",
    "print('STATISTICAL AND AGGREGATE OPERATIONS:\\n',\n",
    "    'STANDARD DEVIATION OF rx:', torch.std(rx),'\\n',\n",
    "    'AVERAGE OR MEAN OF rx:', torch.mean(rx),'\\n',\n",
    "    'MAXIMUM VALUE OF rx:', torch.max(rx),'\\n'    \n",
    ")"
   ]
  },
  {
   "cell_type": "markdown",
   "metadata": {},
   "source": [
    "### Vector (Tensor) addition"
   ]
  },
  {
   "cell_type": "code",
   "execution_count": 14,
   "metadata": {},
   "outputs": [
    {
     "name": "stdout",
     "output_type": "stream",
     "text": [
      "tensor([4., 8., 7.]) tensor([ 3., 16., 10.])\n"
     ]
    }
   ],
   "source": [
    "u = torch.Tensor([1,4,2])\n",
    "v = torch.Tensor([3,4,5])\n",
    "w = u+v\n",
    "x = u*v\n",
    "print(w,x)"
   ]
  },
  {
   "cell_type": "markdown",
   "metadata": {},
   "source": [
    "### MULTIPLYING A VECTOR WITH A SCALAR"
   ]
  },
  {
   "cell_type": "code",
   "execution_count": 18,
   "metadata": {},
   "outputs": [
    {
     "name": "stdout",
     "output_type": "stream",
     "text": [
      "tensor([[1., 1., 1.],\n",
      "        [1., 1., 1.]])\n"
     ]
    }
   ],
   "source": [
    "y = torch.ones(2,3)\n",
    "print(y)"
   ]
  },
  {
   "cell_type": "code",
   "execution_count": 19,
   "metadata": {},
   "outputs": [
    {
     "name": "stdout",
     "output_type": "stream",
     "text": [
      "tensor([[100., 100., 100.],\n",
      "        [100., 100., 100.]])\n"
     ]
    }
   ],
   "source": [
    "z = y*100\n",
    "print(z)"
   ]
  },
  {
   "cell_type": "markdown",
   "metadata": {},
   "source": [
    "### LINEAR COMBINATION"
   ]
  },
  {
   "cell_type": "code",
   "execution_count": 20,
   "metadata": {},
   "outputs": [
    {
     "name": "stdout",
     "output_type": "stream",
     "text": [
      "tensor([1., 2.]) tensor([4., 0.])\n"
     ]
    }
   ],
   "source": [
    "u = torch.Tensor([1,2])\n",
    "v = torch.Tensor([4,0])\n",
    "print(u,v)"
   ]
  },
  {
   "cell_type": "code",
   "execution_count": 22,
   "metadata": {},
   "outputs": [
    {
     "name": "stdout",
     "output_type": "stream",
     "text": [
      "tensor([3., 6.]) tensor([16.,  0.])\n",
      "tensor([19.,  6.])\n",
      "tensor([19.,  6.])\n"
     ]
    }
   ],
   "source": [
    "w = 3*u \n",
    "x = 4*v\n",
    "print(w,x)\n",
    "print(w+x)\n",
    "print(3*u+4*v)"
   ]
  },
  {
   "cell_type": "markdown",
   "metadata": {},
   "source": [
    "### ELEMENT-WISE MULTIPLICATION OF THREE TENSORS"
   ]
  },
  {
   "cell_type": "code",
   "execution_count": 26,
   "metadata": {},
   "outputs": [
    {
     "name": "stdout",
     "output_type": "stream",
     "text": [
      "tensor([[20.],\n",
      "        [10.],\n",
      "        [10.]]) \n",
      " tensor([[0.],\n",
      "        [0.],\n",
      "        [5.]]) \n",
      " tensor([[11.],\n",
      "        [11.],\n",
      "        [ 0.]])\n"
     ]
    }
   ],
   "source": [
    "q = torch.Tensor([[20], [10], [10]])\n",
    "c = torch.Tensor([[0],[0],[5]])\n",
    "n = torch.Tensor([[11],[11],[0]])\n",
    "print(q,'\\n', c, '\\n', n)"
   ]
  },
  {
   "cell_type": "code",
   "execution_count": 30,
   "metadata": {},
   "outputs": [
    {
     "name": "stdout",
     "output_type": "stream",
     "text": [
      "tensor([[0.],\n",
      "        [0.],\n",
      "        [0.]])\n"
     ]
    }
   ],
   "source": [
    "print(q*c*n)"
   ]
  },
  {
   "cell_type": "markdown",
   "metadata": {},
   "source": [
    "### DOT PRODUCT USING `dot` METHOD"
   ]
  },
  {
   "cell_type": "code",
   "execution_count": 39,
   "metadata": {},
   "outputs": [
    {
     "name": "stdout",
     "output_type": "stream",
     "text": [
      "tensor(51.)\n"
     ]
    }
   ],
   "source": [
    "a = [1,2,3,4]\n",
    "b = [2,2,3,9]\n",
    "A = torch.Tensor(a)\n",
    "B = torch.Tensor(b)\n",
    "\n",
    "print(torch.dot(A,B))"
   ]
  },
  {
   "cell_type": "markdown",
   "metadata": {},
   "source": [
    "### MATRIX MULTIPLICATION BETWEEN TENSORS\n",
    "#### NOTE: The `reshape()` method is used to reshape the tensors to ensure proper matrix multiplication"
   ]
  },
  {
   "cell_type": "code",
   "execution_count": 3,
   "metadata": {},
   "outputs": [
    {
     "name": "stdout",
     "output_type": "stream",
     "text": [
      "tensor([1., 0., 1.]) \n",
      " tensor([[20.],\n",
      "        [10.],\n",
      "        [25.]])\n"
     ]
    }
   ],
   "source": [
    "u = torch.Tensor([1,0,1])\n",
    "v = torch.Tensor([[20],[10],[25]])\n",
    "print(u,'\\n', v) "
   ]
  },
  {
   "cell_type": "code",
   "execution_count": 19,
   "metadata": {},
   "outputs": [
    {
     "name": "stdout",
     "output_type": "stream",
     "text": [
      "tensor([[1.],\n",
      "        [0.],\n",
      "        [1.]])\n",
      "tensor([[1., 0., 1.]])\n",
      "tensor([[20., 10., 25.]])\n",
      "tensor([[20.,  0., 25.]])\n",
      "torch.Size([1, 3]) torch.Size([3, 1]) torch.Size([1, 3])\n"
     ]
    }
   ],
   "source": [
    "u = u.reshape(1,3)\n",
    "x = u.reshape(3,1)\n",
    "print(x)\n",
    "print(u)\n",
    "u*x\n",
    "print(v)\n",
    "v = v.reshape(1,3)\n",
    "print(u*v)\n",
    "print(u.shape,x.shape,v.shape)"
   ]
  },
  {
   "cell_type": "markdown",
   "metadata": {},
   "source": [
    "## TENSOR SCALAR MANIPULATION (ALSO CONSIDERED BRODCASTING)"
   ]
  },
  {
   "cell_type": "code",
   "execution_count": 20,
   "metadata": {},
   "outputs": [
    {
     "name": "stdout",
     "output_type": "stream",
     "text": [
      "tensor([100., 200., 300., 400., 500., 600.])\n",
      "tensor([1., 2., 3., 4., 5., 6.])\n",
      "tensor([1001., 1002., 1003., 1004., 1005., 1006.])\n",
      "tensor([-19., -18., -17., -16., -15., -14.])\n",
      "tensor([0.1000, 0.2000, 0.3000, 0.4000, 0.5000, 0.6000])\n"
     ]
    }
   ],
   "source": [
    "u = torch.Tensor([1,2,3,4,5,6])\n",
    "print(u*100)\n",
    "print(u+0)\n",
    "print(u+1000)\n",
    "print(u-20)\n",
    "print(u/10)"
   ]
  },
  {
   "cell_type": "markdown",
   "metadata": {},
   "source": [
    "# TENSOR 2: BASICS OF MATRIX OPERATIONS"
   ]
  },
  {
   "cell_type": "code",
   "execution_count": 82,
   "metadata": {},
   "outputs": [
    {
     "name": "stdout",
     "output_type": "stream",
     "text": [
      "[10]\n",
      "[10, 11]\n",
      "[10, 11, 12]\n",
      "[20]\n",
      "[20, 21]\n",
      "[20, 21, 22]\n",
      "[30]\n",
      "[30, 31]\n",
      "[30, 31, 32]\n"
     ]
    },
    {
     "data": {
      "text/plain": [
       "[[10, 11, 12], [20, 21, 22], [30, 31, 32]]"
      ]
     },
     "execution_count": 82,
     "metadata": {},
     "output_type": "execute_result"
    }
   ],
   "source": [
    "ls = []\n",
    "\n",
    "for i in range(3):\n",
    "    in_list = []\n",
    "    for j in range(3):\n",
    "        in_list.append(10*(i+1)+j)\n",
    "        print(in_list)\n",
    "    ls.append(in_list)\n",
    "\n",
    "\n",
    "ls\n",
    "        "
   ]
  },
  {
   "cell_type": "code",
   "execution_count": 88,
   "metadata": {},
   "outputs": [
    {
     "name": "stdout",
     "output_type": "stream",
     "text": [
      "tensor([[10., 11., 12.],\n",
      "        [20., 21., 22.],\n",
      "        [30., 31., 32.]]) \n",
      " tensor([[10, 11, 12],\n",
      "        [20, 21, 22],\n",
      "        [30, 31, 32]])\n"
     ]
    }
   ],
   "source": [
    "A = torch.Tensor(ls)\n",
    "B = torch.tensor(ls)\n",
    "print(A,'\\n',B)"
   ]
  },
  {
   "cell_type": "markdown",
   "metadata": {},
   "source": [
    "### DIMENSION, SHAPE AND SIZE OF THE 2-D TENSOR"
   ]
  },
  {
   "cell_type": "code",
   "execution_count": 106,
   "metadata": {},
   "outputs": [
    {
     "name": "stdout",
     "output_type": "stream",
     "text": [
      "Dimension of the tensor: 2\n",
      "Shape of the TENSOR: torch.Size([3, 3])\n",
      "Total Size of the TENSOR: torch.Size([3, 3])\n"
     ]
    }
   ],
   "source": [
    "print('Dimension of the tensor:', A.ndimension())\n",
    "print('Shape of the TENSOR:', A.shape)\n",
    "print('Total Size of the TENSOR:', A.size())"
   ]
  },
  {
   "cell_type": "markdown",
   "metadata": {},
   "source": [
    "### GETTING TOTAL NUMBER OF ELEMENTS"
   ]
  },
  {
   "cell_type": "code",
   "execution_count": 110,
   "metadata": {},
   "outputs": [
    {
     "name": "stdout",
     "output_type": "stream",
     "text": [
      "9\n"
     ]
    }
   ],
   "source": [
    "print(np.array(A.size()).prod()) # CASTING SIZE ATTRIBUT TO NDARRAY AND APPLYTING PROD"
   ]
  },
  {
   "cell_type": "markdown",
   "metadata": {},
   "source": [
    "### MATRIX(TENSOR) ADDITION"
   ]
  },
  {
   "cell_type": "code",
   "execution_count": 123,
   "metadata": {},
   "outputs": [
    {
     "name": "stdout",
     "output_type": "stream",
     "text": [
      "tensor([[  1.,   3.,   4.],\n",
      "        [110.,  23., 223.],\n",
      "        [ 22.,   0.,   9.]])\n",
      "tensor([[10.,  1., 20.],\n",
      "        [23., 45., 60.],\n",
      "        [11., 90., 65.]])\n",
      "2\n",
      "2\n"
     ]
    }
   ],
   "source": [
    "cx = [[1, 3 ,4], [110,23,223], [22,0,9]]\n",
    "bx = [[10,1,20],[23,45,60],[11,90,65]]\n",
    "cx = torch.Tensor(cx)\n",
    "bx = torch.Tensor(bx)\n",
    "print(cx)\n",
    "print(bx)\n",
    "print(cx.ndimension())\n",
    "print(bx.ndimension())"
   ]
  },
  {
   "cell_type": "code",
   "execution_count": 127,
   "metadata": {},
   "outputs": [
    {
     "name": "stdout",
     "output_type": "stream",
     "text": [
      "torch.float32\n"
     ]
    }
   ],
   "source": [
    "bcx = cx+bx\n",
    "bcx\n",
    "print(bcx.dtype)"
   ]
  },
  {
   "cell_type": "markdown",
   "metadata": {},
   "source": [
    "### MULTPLYING MATRIX BY A SCALAR"
   ]
  },
  {
   "cell_type": "code",
   "execution_count": 131,
   "metadata": {},
   "outputs": [
    {
     "name": "stdout",
     "output_type": "stream",
     "text": [
      "tensor([[0., 0., 0.],\n",
      "        [0., 0., 0.],\n",
      "        [0., 0., 0.]])\n",
      "tensor([[  -7.7000,   -2.8000,  -16.8000],\n",
      "        [ -93.1000,  -47.6000, -198.1000],\n",
      "        [ -23.1000,  -63.0000,  -51.8000]])\n",
      "tensor([[ -30.8000,  -11.2000,  -67.2000],\n",
      "        [-372.4000, -190.4000, -792.4000],\n",
      "        [ -92.4000, -252.0000, -207.2000]]) torch.float32\n"
     ]
    }
   ],
   "source": [
    "dx = bcx*0\n",
    "xs = bcx*-2.8\n",
    "yx = bcx*-0.7\n",
    "\n",
    "\n",
    "print(dx)\n",
    "print(yx)\n",
    "print(xs, xs.dtype)"
   ]
  },
  {
   "cell_type": "markdown",
   "metadata": {},
   "source": [
    "### ADDING A SCALAR TO A MATRIX"
   ]
  },
  {
   "cell_type": "code",
   "execution_count": 135,
   "metadata": {},
   "outputs": [
    {
     "data": {
      "text/plain": [
       "tensor([[895.2000, 914.8000, 858.8000],\n",
       "        [553.6000, 735.6000, 133.6000],\n",
       "        [833.6000, 674.0000, 718.8000]])"
      ]
     },
     "execution_count": 135,
     "metadata": {},
     "output_type": "execute_result"
    }
   ],
   "source": [
    "wq = xs+926\n",
    "wq"
   ]
  },
  {
   "cell_type": "markdown",
   "metadata": {},
   "source": [
    "### SLICING AND INDEXING MATRIX (TENSOR)"
   ]
  },
  {
   "cell_type": "code",
   "execution_count": 136,
   "metadata": {},
   "outputs": [
    {
     "data": {
      "text/plain": [
       "tensor([[10.,  1., 20.],\n",
       "        [23., 45., 60.],\n",
       "        [11., 90., 65.]])"
      ]
     },
     "execution_count": 136,
     "metadata": {},
     "output_type": "execute_result"
    }
   ],
   "source": [
    "bx"
   ]
  },
  {
   "cell_type": "code",
   "execution_count": 137,
   "metadata": {},
   "outputs": [
    {
     "data": {
      "text/plain": [
       "tensor([10.,  1., 20.])"
      ]
     },
     "execution_count": 137,
     "metadata": {},
     "output_type": "execute_result"
    }
   ],
   "source": [
    "bx[0]"
   ]
  },
  {
   "cell_type": "code",
   "execution_count": 139,
   "metadata": {},
   "outputs": [
    {
     "data": {
      "text/plain": [
       "tensor(20.)"
      ]
     },
     "execution_count": 139,
     "metadata": {},
     "output_type": "execute_result"
    }
   ],
   "source": [
    "bx[0,2]"
   ]
  },
  {
   "cell_type": "code",
   "execution_count": 143,
   "metadata": {},
   "outputs": [
    {
     "data": {
      "text/plain": [
       "tensor([ 1., 20.])"
      ]
     },
     "execution_count": 143,
     "metadata": {},
     "output_type": "execute_result"
    }
   ],
   "source": [
    "bx[0,1:3]"
   ]
  },
  {
   "cell_type": "code",
   "execution_count": 163,
   "metadata": {},
   "outputs": [
    {
     "data": {
      "text/plain": [
       "tensor([60., 65.])"
      ]
     },
     "execution_count": 163,
     "metadata": {},
     "output_type": "execute_result"
    }
   ],
   "source": [
    "bx[1:3,2]"
   ]
  },
  {
   "cell_type": "code",
   "execution_count": 164,
   "metadata": {},
   "outputs": [
    {
     "data": {
      "text/plain": [
       "tensor([[10.,  1., 20.],\n",
       "        [23., 45., 60.],\n",
       "        [11., 90., 65.]])"
      ]
     },
     "execution_count": 164,
     "metadata": {},
     "output_type": "execute_result"
    }
   ],
   "source": [
    "bx"
   ]
  },
  {
   "cell_type": "code",
   "execution_count": 175,
   "metadata": {},
   "outputs": [
    {
     "data": {
      "text/plain": [
       "tensor([[11., 90., 65.],\n",
       "        [11., 90., 65.]])"
      ]
     },
     "execution_count": 175,
     "metadata": {},
     "output_type": "execute_result"
    }
   ],
   "source": [
    "bx[[2,2]]"
   ]
  },
  {
   "cell_type": "code",
   "execution_count": 178,
   "metadata": {},
   "outputs": [
    {
     "data": {
      "text/plain": [
       "tensor([[ 1., 20.],\n",
       "        [45., 60.]])"
      ]
     },
     "execution_count": 178,
     "metadata": {},
     "output_type": "execute_result"
    }
   ],
   "source": [
    "bx[:2,1:3]"
   ]
  },
  {
   "cell_type": "code",
   "execution_count": 258,
   "metadata": {},
   "outputs": [
    {
     "data": {
      "text/plain": [
       "tensor([[60.],\n",
       "        [65.]])"
      ]
     },
     "execution_count": 258,
     "metadata": {},
     "output_type": "execute_result"
    }
   ],
   "source": [
    "bx[1:,2:3]"
   ]
  },
  {
   "cell_type": "markdown",
   "metadata": {},
   "source": [
    "### ELEMENT-WISE PRODCUT OF MATRICES"
   ]
  },
  {
   "cell_type": "code",
   "execution_count": 281,
   "metadata": {},
   "outputs": [
    {
     "name": "stdout",
     "output_type": "stream",
     "text": [
      "tensor([[10., 20., 30.],\n",
      "        [30., 40.,  9.],\n",
      "        [12., 12., 94.],\n",
      "        [10.,  0., 30.]]) \n",
      " tensor([[10.,  0.,  0.],\n",
      "        [ 0., 89.,  0.],\n",
      "        [ 0.,  0.,  1.],\n",
      "        [ 0.,  0.,  0.]])\n"
     ]
    }
   ],
   "source": [
    "ax = torch.Tensor([[10,20,30],[30,40,9],[12,12,94],[10,0,30],])\n",
    "b = torch.Tensor([[10,0,0],[0,89,0],[0,0,1],[0,0,0]])\n",
    "print(ax,'\\n',b)"
   ]
  },
  {
   "cell_type": "code",
   "execution_count": 296,
   "metadata": {},
   "outputs": [
    {
     "ename": "RuntimeError",
     "evalue": "size mismatch, m1: [4 x 3], m2: [4 x 3] at ..\\aten\\src\\TH/generic/THTensorMath.cpp:961",
     "output_type": "error",
     "traceback": [
      "\u001b[1;31m---------------------------------------------------------------------------\u001b[0m",
      "\u001b[1;31mRuntimeError\u001b[0m                              Traceback (most recent call last)",
      "\u001b[1;32m<ipython-input-296-40d62d93fa86>\u001b[0m in \u001b[0;36m<module>\u001b[1;34m\u001b[0m\n\u001b[0;32m      1\u001b[0m \u001b[0mZ\u001b[0m \u001b[1;33m=\u001b[0m \u001b[0max\u001b[0m\u001b[1;33m*\u001b[0m\u001b[0mb\u001b[0m\u001b[1;33m\u001b[0m\u001b[1;33m\u001b[0m\u001b[0m\n\u001b[1;32m----> 2\u001b[1;33m \u001b[0mc\u001b[0m \u001b[1;33m=\u001b[0m \u001b[0max\u001b[0m\u001b[1;33m.\u001b[0m\u001b[0mmm\u001b[0m\u001b[1;33m(\u001b[0m\u001b[0mb\u001b[0m\u001b[1;33m)\u001b[0m\u001b[1;33m\u001b[0m\u001b[1;33m\u001b[0m\u001b[0m\n\u001b[0m\u001b[0;32m      3\u001b[0m \u001b[0mprint\u001b[0m\u001b[1;33m(\u001b[0m\u001b[0mZ\u001b[0m\u001b[1;33m)\u001b[0m\u001b[1;33m\u001b[0m\u001b[1;33m\u001b[0m\u001b[0m\n\u001b[0;32m      4\u001b[0m \u001b[0mc\u001b[0m\u001b[1;33m\u001b[0m\u001b[1;33m\u001b[0m\u001b[0m\n",
      "\u001b[1;31mRuntimeError\u001b[0m: size mismatch, m1: [4 x 3], m2: [4 x 3] at ..\\aten\\src\\TH/generic/THTensorMath.cpp:961"
     ]
    }
   ],
   "source": [
    "Z = ax*b\n",
    "c = ax.mm(b)\n",
    "print(Z)\n",
    "c"
   ]
  },
  {
   "cell_type": "markdown",
   "metadata": {},
   "source": [
    "### FOR MATRIX MULTIPLICATION, THE TENSORS MUST BE ARRANGED PROPERLY IN ORDER TO PREVENT THE ABOVE ERROR"
   ]
  },
  {
   "cell_type": "code",
   "execution_count": 300,
   "metadata": {},
   "outputs": [
    {
     "name": "stdout",
     "output_type": "stream",
     "text": [
      "torch.Size([4, 3]) torch.Size([4, 3])\n"
     ]
    },
    {
     "data": {
      "text/plain": [
       "tensor([[10.,  0.,  0.,  0.],\n",
       "        [89.,  0.,  0.,  0.],\n",
       "        [ 1.,  0.,  0.,  0.]])"
      ]
     },
     "execution_count": 300,
     "metadata": {},
     "output_type": "execute_result"
    }
   ],
   "source": [
    "print(ax.size(),b.size())\n",
    "bn = b.reshape(3,4)\n",
    "bn"
   ]
  },
  {
   "cell_type": "code",
   "execution_count": 291,
   "metadata": {},
   "outputs": [
    {
     "data": {
      "text/plain": [
       "tensor([[10.,  0.,  0.],\n",
       "        [ 0., 89.,  0.],\n",
       "        [ 0.,  0.,  1.],\n",
       "        [ 0.,  0.,  0.]])"
      ]
     },
     "execution_count": 291,
     "metadata": {},
     "output_type": "execute_result"
    }
   ],
   "source": []
  },
  {
   "cell_type": "code",
   "execution_count": 299,
   "metadata": {},
   "outputs": [
    {
     "data": {
      "text/plain": [
       "tensor([[1910.,    0.,    0.,    0.],\n",
       "        [3869.,    0.,    0.,    0.],\n",
       "        [1282.,    0.,    0.,    0.],\n",
       "        [ 130.,    0.,    0.,    0.]])"
      ]
     },
     "execution_count": 299,
     "metadata": {},
     "output_type": "execute_result"
    }
   ],
   "source": [
    "wxc = ax.mm(bn)\n",
    "wxc"
   ]
  },
  {
   "cell_type": "markdown",
   "metadata": {},
   "source": [
    "### TRANSPOSE OF A 2-D TENSOR (MATRIX)"
   ]
  },
  {
   "cell_type": "code",
   "execution_count": 324,
   "metadata": {},
   "outputs": [
    {
     "name": "stdout",
     "output_type": "stream",
     "text": [
      "tensor([[1910.,    0.,    0.,    0.],\n",
      "        [3869.,    0.,    0.,    0.],\n",
      "        [1282.,    0.,    0.,    0.],\n",
      "        [ 130.,    0.,    0.,    0.]])\n",
      "tensor([[1910., 3869., 1282.,  130.],\n",
      "        [   0.,    0.,    0.,    0.],\n",
      "        [   0.,    0.,    0.,    0.],\n",
      "        [   0.,    0.,    0.,    0.]])\n",
      "tensor([[1910.,    0.,    0.,    0.],\n",
      "        [3869.,    0.,    0.,    0.],\n",
      "        [1282.,    0.,    0.,    0.],\n",
      "        [ 130.,    0.,    0.,    0.]])\n",
      "tensor([[1910.,    0.,    0.,    0.],\n",
      "        [3869.,    0.,    0.,    0.],\n",
      "        [1282.,    0.,    0.,    0.],\n",
      "        [ 130.,    0.,    0.,    0.]])\n",
      "tensor([[1910.,    0.,    0.,    0.],\n",
      "        [3869.,    0.,    0.,    0.],\n",
      "        [1282.,    0.,    0.,    0.],\n",
      "        [ 130.,    0.,    0.,    0.]])\n",
      "tensor([[1910., 3869., 1282.,  130.],\n",
      "        [   0.,    0.,    0.,    0.],\n",
      "        [   0.,    0.,    0.,    0.],\n",
      "        [   0.,    0.,    0.,    0.]])\n",
      "tensor([[1910.,    0.,    0.,    0.],\n",
      "        [3869.,    0.,    0.,    0.],\n",
      "        [1282.,    0.,    0.,    0.],\n",
      "        [ 130.,    0.,    0.,    0.]])\n"
     ]
    }
   ],
   "source": [
    "print(wxc.transpose(-2,0))\n",
    "print(wxc.transpose(-2,-1))\n",
    "print(wxc.transpose(-2,-2))\n",
    "print(wxc.transpose(-1,-1))\n",
    "print(wxc.transpose(-1,1))\n",
    "print(wxc.transpose(-1,0))\n",
    "print(wxc.transpose(1,-1))"
   ]
  },
  {
   "cell_type": "markdown",
   "metadata": {},
   "source": [
    "### THERE ARE BASICALLY THE SAME STUFF THOUGH: ITS JUST SPECIFYING THE DIMENSIONS `dim0`, `dim1` ARGUMENT TO THE METHOD"
   ]
  },
  {
   "cell_type": "markdown",
   "metadata": {},
   "source": [
    "### MATRIX INVERSE"
   ]
  },
  {
   "cell_type": "code",
   "execution_count": 327,
   "metadata": {},
   "outputs": [
    {
     "data": {
      "text/plain": [
       "tensor([[1910.,    0.,    0.,    0.],\n",
       "        [3869.,    0.,    0.,    0.],\n",
       "        [1282.,    0.,    0.,    0.],\n",
       "        [ 130.,    0.,    0.,    0.]])"
      ]
     },
     "execution_count": 327,
     "metadata": {},
     "output_type": "execute_result"
    }
   ],
   "source": [
    "wxc"
   ]
  },
  {
   "cell_type": "code",
   "execution_count": 331,
   "metadata": {},
   "outputs": [
    {
     "ename": "RuntimeError",
     "evalue": "Lapack Error getrf : U(2,2) is 0, U is singular at ..\\aten\\src\\TH/generic/THTensorLapack.cpp:468",
     "output_type": "error",
     "traceback": [
      "\u001b[1;31m---------------------------------------------------------------------------\u001b[0m",
      "\u001b[1;31mRuntimeError\u001b[0m                              Traceback (most recent call last)",
      "\u001b[1;32m<ipython-input-331-a58b784c7a30>\u001b[0m in \u001b[0;36m<module>\u001b[1;34m\u001b[0m\n\u001b[1;32m----> 1\u001b[1;33m \u001b[0mtorch\u001b[0m\u001b[1;33m.\u001b[0m\u001b[0mTensor\u001b[0m\u001b[1;33m.\u001b[0m\u001b[0minverse\u001b[0m\u001b[1;33m(\u001b[0m\u001b[0mwxc\u001b[0m\u001b[1;33m)\u001b[0m\u001b[1;33m\u001b[0m\u001b[1;33m\u001b[0m\u001b[0m\n\u001b[0m",
      "\u001b[1;31mRuntimeError\u001b[0m: Lapack Error getrf : U(2,2) is 0, U is singular at ..\\aten\\src\\TH/generic/THTensorLapack.cpp:468"
     ]
    }
   ],
   "source": [
    "torch.Tensor.inverse(wxc)"
   ]
  },
  {
   "cell_type": "markdown",
   "metadata": {},
   "source": [
    "### DETERMINANT OF A MATRIX\n"
   ]
  },
  {
   "cell_type": "code",
   "execution_count": 333,
   "metadata": {},
   "outputs": [
    {
     "data": {
      "text/plain": [
       "tensor(0.)"
      ]
     },
     "execution_count": 333,
     "metadata": {},
     "output_type": "execute_result"
    }
   ],
   "source": [
    "torch.det(wxc)"
   ]
  },
  {
   "cell_type": "code",
   "execution_count": null,
   "metadata": {},
   "outputs": [],
   "source": []
  }
 ],
 "metadata": {
  "interpreter": {
   "hash": "c347d5b110094c3c84b38995bb070df963df71643c99aeb6475918bc71b4c228"
  },
  "kernelspec": {
   "display_name": "Python 3.6.10 64-bit ('AIDY.ai': conda)",
   "language": "python",
   "name": "python3"
  },
  "language_info": {
   "codemirror_mode": {
    "name": "ipython",
    "version": 3
   },
   "file_extension": ".py",
   "mimetype": "text/x-python",
   "name": "python",
   "nbconvert_exporter": "python",
   "pygments_lexer": "ipython3",
   "version": "3.6.10"
  },
  "orig_nbformat": 4
 },
 "nbformat": 4,
 "nbformat_minor": 2
}
